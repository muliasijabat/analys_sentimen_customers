{
 "cells": [
  {
   "cell_type": "markdown",
   "metadata": {},
   "source": [
    "# Import Library"
   ]
  },
  {
   "cell_type": "code",
   "execution_count": 31,
   "metadata": {},
   "outputs": [],
   "source": [
    "import pandas as pd\n",
    "import numpy as np\n",
    "\n",
    "import matplotlib.pyplot as plt\n",
    "import seaborn as sns"
   ]
  },
  {
   "cell_type": "markdown",
   "metadata": {},
   "source": [
    "# Load Data"
   ]
  },
  {
   "cell_type": "code",
   "execution_count": 33,
   "metadata": {},
   "outputs": [
    {
     "data": {
      "text/html": [
       "<div>\n",
       "<style scoped>\n",
       "    .dataframe tbody tr th:only-of-type {\n",
       "        vertical-align: middle;\n",
       "    }\n",
       "\n",
       "    .dataframe tbody tr th {\n",
       "        vertical-align: top;\n",
       "    }\n",
       "\n",
       "    .dataframe thead th {\n",
       "        text-align: right;\n",
       "    }\n",
       "</style>\n",
       "<table border=\"1\" class=\"dataframe\">\n",
       "  <thead>\n",
       "    <tr style=\"text-align: right;\">\n",
       "      <th></th>\n",
       "      <th>Unnamed: 0</th>\n",
       "      <th>reviews</th>\n",
       "    </tr>\n",
       "  </thead>\n",
       "  <tbody>\n",
       "    <tr>\n",
       "      <th>0</th>\n",
       "      <td>0</td>\n",
       "      <td>â Trip Verified |  I take comfort in reading...</td>\n",
       "    </tr>\n",
       "    <tr>\n",
       "      <th>1</th>\n",
       "      <td>1</td>\n",
       "      <td>â Trip Verified |  The worst journey in my l...</td>\n",
       "    </tr>\n",
       "    <tr>\n",
       "      <th>2</th>\n",
       "      <td>2</td>\n",
       "      <td>â Trip Verified | The airplanes and the loun...</td>\n",
       "    </tr>\n",
       "    <tr>\n",
       "      <th>3</th>\n",
       "      <td>3</td>\n",
       "      <td>â Trip Verified | One of the worst experienc...</td>\n",
       "    </tr>\n",
       "    <tr>\n",
       "      <th>4</th>\n",
       "      <td>4</td>\n",
       "      <td>â Trip Verified |  Cancelled our flight last...</td>\n",
       "    </tr>\n",
       "  </tbody>\n",
       "</table>\n",
       "</div>"
      ],
      "text/plain": [
       "   Unnamed: 0                                            reviews\n",
       "0           0  â\n",
       " Trip Verified |  I take comfort in reading...\n",
       "1           1  â\n",
       " Trip Verified |  The worst journey in my l...\n",
       "2           2  â\n",
       " Trip Verified | The airplanes and the loun...\n",
       "3           3  â\n",
       " Trip Verified | One of the worst experienc...\n",
       "4           4  â\n",
       " Trip Verified |  Cancelled our flight last..."
      ]
     },
     "execution_count": 33,
     "metadata": {},
     "output_type": "execute_result"
    }
   ],
   "source": [
    "data = pd.read_csv('Data/BA_reviews.csv', encoding='latin-1')\n",
    "data.head()"
   ]
  },
  {
   "cell_type": "markdown",
   "metadata": {},
   "source": [
    "# EDA"
   ]
  },
  {
   "cell_type": "code",
   "execution_count": 34,
   "metadata": {},
   "outputs": [
    {
     "data": {
      "text/plain": [
       "Index(['Unnamed: 0', 'reviews'], dtype='object')"
      ]
     },
     "execution_count": 34,
     "metadata": {},
     "output_type": "execute_result"
    }
   ],
   "source": [
    "data.columns"
   ]
  },
  {
   "cell_type": "code",
   "execution_count": 35,
   "metadata": {},
   "outputs": [
    {
     "name": "stdout",
     "output_type": "stream",
     "text": [
      "<class 'pandas.core.frame.DataFrame'>\n",
      "RangeIndex: 1000 entries, 0 to 999\n",
      "Data columns (total 2 columns):\n",
      " #   Column      Non-Null Count  Dtype \n",
      "---  ------      --------------  ----- \n",
      " 0   Unnamed: 0  1000 non-null   int64 \n",
      " 1   reviews     1000 non-null   object\n",
      "dtypes: int64(1), object(1)\n",
      "memory usage: 15.8+ KB\n"
     ]
    }
   ],
   "source": [
    "data.info()"
   ]
  },
  {
   "cell_type": "code",
   "execution_count": 36,
   "metadata": {},
   "outputs": [
    {
     "name": "stdout",
     "output_type": "stream",
     "text": [
      "     Unnamed: 0                                            reviews  verified\n",
      "0             0  â Trip Verified |  I take comfort in reading...      True\n",
      "1             1  â Trip Verified |  The worst journey in my l...      True\n",
      "2             2  â Trip Verified | The airplanes and the loun...      True\n",
      "3             3  â Trip Verified | One of the worst experienc...      True\n",
      "4             4  â Trip Verified |  Cancelled our flight last...      True\n",
      "..          ...                                                ...       ...\n",
      "995         995  â Trip Verified | \\r\\nI would like to compli...      True\n",
      "996         996  â Trip Verified | Arrived at the airport to ...      True\n",
      "997         997  â Trip Verified |  We have been loyal custom...      True\n",
      "998         998  â Trip Verified |  Gatwick to Las Vegas. Boa...      True\n",
      "999         999  Not Verified |  Nassau to London. Premium Econ...     False\n",
      "\n",
      "[1000 rows x 3 columns]\n"
     ]
    }
   ],
   "source": [
    "# make a new column 'verified'\n",
    "data['verified'] = data.reviews.str.contains(\"Trip Verified\")\n",
    "# Menampilkan DataFrame yang telah dipisahkan\n",
    "print(data)\n"
   ]
  },
  {
   "cell_type": "code",
   "execution_count": 37,
   "metadata": {},
   "outputs": [
    {
     "data": {
      "text/plain": [
       "verified\n",
       "True     791\n",
       "False    209\n",
       "Name: count, dtype: int64"
      ]
     },
     "execution_count": 37,
     "metadata": {},
     "output_type": "execute_result"
    }
   ],
   "source": [
    "data.verified.value_counts()"
   ]
  },
  {
   "cell_type": "code",
   "execution_count": 38,
   "metadata": {},
   "outputs": [],
   "source": [
    "data.drop('Unnamed: 0', axis=1, inplace=True)"
   ]
  },
  {
   "cell_type": "code",
   "execution_count": 39,
   "metadata": {},
   "outputs": [
    {
     "data": {
      "text/html": [
       "<div>\n",
       "<style scoped>\n",
       "    .dataframe tbody tr th:only-of-type {\n",
       "        vertical-align: middle;\n",
       "    }\n",
       "\n",
       "    .dataframe tbody tr th {\n",
       "        vertical-align: top;\n",
       "    }\n",
       "\n",
       "    .dataframe thead th {\n",
       "        text-align: right;\n",
       "    }\n",
       "</style>\n",
       "<table border=\"1\" class=\"dataframe\">\n",
       "  <thead>\n",
       "    <tr style=\"text-align: right;\">\n",
       "      <th></th>\n",
       "      <th>reviews</th>\n",
       "      <th>verified</th>\n",
       "    </tr>\n",
       "  </thead>\n",
       "  <tbody>\n",
       "    <tr>\n",
       "      <th>0</th>\n",
       "      <td>â Trip Verified |  I take comfort in reading...</td>\n",
       "      <td>True</td>\n",
       "    </tr>\n",
       "    <tr>\n",
       "      <th>1</th>\n",
       "      <td>â Trip Verified |  The worst journey in my l...</td>\n",
       "      <td>True</td>\n",
       "    </tr>\n",
       "    <tr>\n",
       "      <th>2</th>\n",
       "      <td>â Trip Verified | The airplanes and the loun...</td>\n",
       "      <td>True</td>\n",
       "    </tr>\n",
       "    <tr>\n",
       "      <th>3</th>\n",
       "      <td>â Trip Verified | One of the worst experienc...</td>\n",
       "      <td>True</td>\n",
       "    </tr>\n",
       "    <tr>\n",
       "      <th>4</th>\n",
       "      <td>â Trip Verified |  Cancelled our flight last...</td>\n",
       "      <td>True</td>\n",
       "    </tr>\n",
       "  </tbody>\n",
       "</table>\n",
       "</div>"
      ],
      "text/plain": [
       "                                             reviews  verified\n",
       "0  â\n",
       " Trip Verified |  I take comfort in reading...      True\n",
       "1  â\n",
       " Trip Verified |  The worst journey in my l...      True\n",
       "2  â\n",
       " Trip Verified | The airplanes and the loun...      True\n",
       "3  â\n",
       " Trip Verified | One of the worst experienc...      True\n",
       "4  â\n",
       " Trip Verified |  Cancelled our flight last...      True"
      ]
     },
     "execution_count": 39,
     "metadata": {},
     "output_type": "execute_result"
    }
   ],
   "source": [
    "data.head()"
   ]
  },
  {
   "cell_type": "code",
   "execution_count": 42,
   "metadata": {},
   "outputs": [
    {
     "data": {
      "text/plain": [
       "<Axes: xlabel='verified'>"
      ]
     },
     "execution_count": 42,
     "metadata": {},
     "output_type": "execute_result"
    },
    {
     "data": {
      "image/png": "[encoded data removed]",
      "text/plain": [
       "<Figure size 640x480 with 1 Axes>"
      ]
     },
     "metadata": {},
     "output_type": "display_data"
    }
   ],
   "source": [
    "data.verified.value_counts().plot(kind='bar')"
   ]
  },
  {
   "cell_type": "code",
   "execution_count": 49,
   "metadata": {},
   "outputs": [
    {
     "data": {
      "text/html": [
       "<div>\n",
       "<style scoped>\n",
       "    .dataframe tbody tr th:only-of-type {\n",
       "        vertical-align: middle;\n",
       "    }\n",
       "\n",
       "    .dataframe tbody tr th {\n",
       "        vertical-align: top;\n",
       "    }\n",
       "\n",
       "    .dataframe thead th {\n",
       "        text-align: right;\n",
       "    }\n",
       "</style>\n",
       "<table border=\"1\" class=\"dataframe\">\n",
       "  <thead>\n",
       "    <tr style=\"text-align: right;\">\n",
       "      <th></th>\n",
       "      <th>reviews</th>\n",
       "      <th>verified</th>\n",
       "      <th>review_len</th>\n",
       "    </tr>\n",
       "  </thead>\n",
       "  <tbody>\n",
       "    <tr>\n",
       "      <th>50</th>\n",
       "      <td>â Trip Verified | Terrible Experience with B...</td>\n",
       "      <td>True</td>\n",
       "      <td>3485</td>\n",
       "    </tr>\n",
       "    <tr>\n",
       "      <th>164</th>\n",
       "      <td>â Trip Verified |  \\r\\nOur flight out to Dub...</td>\n",
       "      <td>True</td>\n",
       "      <td>3459</td>\n",
       "    </tr>\n",
       "    <tr>\n",
       "      <th>211</th>\n",
       "      <td>â Trip Verified | Probably the worst busines...</td>\n",
       "      <td>True</td>\n",
       "      <td>3429</td>\n",
       "    </tr>\n",
       "    <tr>\n",
       "      <th>169</th>\n",
       "      <td>â Trip Verified |  The usual shambolic unfol...</td>\n",
       "      <td>True</td>\n",
       "      <td>3426</td>\n",
       "    </tr>\n",
       "    <tr>\n",
       "      <th>749</th>\n",
       "      <td>â Trip Verified |  Hong Kong to Copenhagen v...</td>\n",
       "      <td>True</td>\n",
       "      <td>3402</td>\n",
       "    </tr>\n",
       "  </tbody>\n",
       "</table>\n",
       "</div>"
      ],
      "text/plain": [
       "                                               reviews  verified  review_len\n",
       "50   â\n",
       " Trip Verified | Terrible Experience with B...      True        3485\n",
       "164  â\n",
       " Trip Verified |  \\r\\nOur flight out to Dub...      True        3459\n",
       "211  â\n",
       " Trip Verified | Probably the worst busines...      True        3429\n",
       "169  â\n",
       " Trip Verified |  The usual shambolic unfol...      True        3426\n",
       "749  â\n",
       " Trip Verified |  Hong Kong to Copenhagen v...      True        3402"
      ]
     },
     "execution_count": 49,
     "metadata": {},
     "output_type": "execute_result"
    }
   ],
   "source": [
    "data['review_len'] = data.reviews.apply(len)\n",
    "\n",
    "data.sort_values(by='review_len', ascending=False).head()"
   ]
  },
  {
   "cell_type": "markdown",
   "metadata": {},
   "source": [
    "# import Library for Cleaning"
   ]
  },
  {
   "cell_type": "code",
   "execution_count": 44,
   "metadata": {},
   "outputs": [],
   "source": [
    "import re\n",
    "import nltk"
   ]
  },
  {
   "cell_type": "code",
   "execution_count": 45,
   "metadata": {},
   "outputs": [
    {
     "name": "stderr",
     "output_type": "stream",
     "text": [
      "[nltk_data] Downloading package punkt to\n",
      "[nltk_data]     C:\\Users\\ASUS\\AppData\\Roaming\\nltk_data...\n",
      "[nltk_data]   Package punkt is already up-to-date!\n",
      "[nltk_data] Downloading package stopwords to\n",
      "[nltk_data]     C:\\Users\\ASUS\\AppData\\Roaming\\nltk_data...\n",
      "[nltk_data]   Package stopwords is already up-to-date!\n",
      "[nltk_data] Downloading package omw-1.4 to\n",
      "[nltk_data]     C:\\Users\\ASUS\\AppData\\Roaming\\nltk_data...\n",
      "[nltk_data]   Package omw-1.4 is already up-to-date!\n",
      "[nltk_data] Downloading package wordnet to\n",
      "[nltk_data]     C:\\Users\\ASUS\\AppData\\Roaming\\nltk_data...\n",
      "[nltk_data]   Package wordnet is already up-to-date!\n"
     ]
    },
    {
     "data": {
      "text/plain": [
       "True"
      ]
     },
     "execution_count": 45,
     "metadata": {},
     "output_type": "execute_result"
    }
   ],
   "source": [
    "nltk.download('punkt')\n",
    "nltk.download('stopwords')\n",
    "nltk.download('omw-1.4')\n",
    "nltk.download('wordnet')"
   ]
  },
  {
   "cell_type": "code",
   "execution_count": 62,
   "metadata": {},
   "outputs": [
    {
     "name": "stdout",
     "output_type": "stream",
     "text": [
      "['i', 'me', 'my', 'myself', 'we', 'our', 'ours', 'ourselves', 'you', \"you're\", \"you've\", \"you'll\", \"you'd\", 'your', 'yours', 'yourself', 'yourselves', 'he', 'him', 'his', 'himself', 'she', \"she's\", 'her', 'hers', 'herself', 'it', \"it's\", 'its', 'itself', 'they', 'them', 'their', 'theirs', 'themselves', 'what', 'which', 'who', 'whom', 'this', 'that', \"that'll\", 'these', 'those', 'am', 'is', 'are', 'was', 'were', 'be', 'been', 'being', 'have', 'has', 'had', 'having', 'do', 'does', 'did', 'doing', 'a', 'an', 'the', 'and', 'but', 'if', 'or', 'because', 'as', 'until', 'while', 'of', 'at', 'by', 'for', 'with', 'about', 'against', 'between', 'into', 'through', 'during', 'before', 'after', 'above', 'below', 'to', 'from', 'up', 'down', 'in', 'out', 'on', 'off', 'over', 'under', 'again', 'further', 'then', 'once', 'here', 'there', 'when', 'where', 'why', 'how', 'all', 'any', 'both', 'each', 'few', 'more', 'most', 'other', 'some', 'such', 'no', 'nor', 'not', 'only', 'own', 'same', 'so', 'than', 'too', 'very', 's', 't', 'can', 'will', 'just', 'don', \"don't\", 'should', \"should've\", 'now', 'd', 'll', 'm', 'o', 're', 've', 'y', 'ain', 'aren', \"aren't\", 'couldn', \"couldn't\", 'didn', \"didn't\", 'doesn', \"doesn't\", 'hadn', \"hadn't\", 'hasn', \"hasn't\", 'haven', \"haven't\", 'isn', \"isn't\", 'ma', 'mightn', \"mightn't\", 'mustn', \"mustn't\", 'needn', \"needn't\", 'shan', \"shan't\", 'shouldn', \"shouldn't\", 'wasn', \"wasn't\", 'weren', \"weren't\", 'won', \"won't\", 'wouldn', \"wouldn't\"]\n"
     ]
    }
   ],
   "source": [
    "from nltk.corpus import stopwords\n",
    "print(stopwords.words('english'))\n",
    "\n",
    "from nltk.stem import WordNetLemmatizer\n",
    "from collections import Counter"
   ]
  },
  {
   "cell_type": "markdown",
   "metadata": {},
   "source": [
    "# Text Preprocessing"
   ]
  },
  {
   "cell_type": "markdown",
   "metadata": {},
   "source": [
    "## Text Cleansing"
   ]
  },
  {
   "cell_type": "code",
   "execution_count": 50,
   "metadata": {},
   "outputs": [],
   "source": [
    "# Defining a function to clean up the text\n",
    "\n",
    "def clean_review(text):\n",
    "\n",
    "    #replace all non-alphabetic character with a space\n",
    "    sms = re.sub('[^a-zA-Z]', ' ', text)\n",
    "\n",
    "    #converting to lowercase\n",
    "    sms = sms.lower()\n",
    "\n",
    "    #Splitting text (check the default of split func!)\n",
    "    sms = sms.split()\n",
    "\n",
    "    # Rejoingn text\n",
    "    sms = ' '.join(sms)\n",
    "\n",
    "    return sms"
   ]
  },
  {
   "cell_type": "code",
   "execution_count": 52,
   "metadata": {},
   "outputs": [
    {
     "name": "stdout",
     "output_type": "stream",
     "text": [
      "trip verified i take comfort in reading the last ten or so reviews to see i m not the only traveller to put in words how absolutely abysmal british airways are the only reason we are stuck using this awful airline is to use up points we booked club europe months ago london to athens sat in row and told they had run out of food options only choice was lentil pie or green curry returning athens to london club europe couldn t check in online as promised so arrived at the airport hrs early to be told they had overbooked the flight and basically we were being bumped to economy this airline fails to deliver time and time again it is a national disgrace and i implore everyone to choose an alternative\n",
      "trip verified the worst journey in my life the connection time at lhr was only hour but the flight from mxp was on delay i had to rush to change terminal by train and arrived risking a heart attack after that the plane just stayed there for another minutes despite that upon arrival at sjc my baggage was lost i filled the form and gave to the employee i was not given any receipt so i did not have any reference number ba phone number at sjc simply never answer i called twice the toll free number and realized they did not record the delivery address i had to enter myself online dealing with a shitty website they delivered the baggage three days later i claimed for compensation online as i had to buy clothes and other stuff and i did never get a receipt i was expecting an upgrade for the flight back to mxp but nothing happened neither they allowed me to enter ba lounge at sjc bad customer service the only positive side was price but obviously this cannot justify this treatment and if i knew i would never flown by ba never again\n",
      "trip verified the airplanes and the lounges are worn out old and broken from dallas to heathrow multiple first class seating and electronics were non functional and poorly designed the first class seating from heathrow to dubrovnik was nothing more than a tray blocking the middle seat of a standard coach ticket very disappointed\n",
      "trip verified one of the worst experiences on the worst airline the flight was delayed due to earlier technical issues the time slipped from to to and finally cancelled there was zero information given despite paying well over the odds for business class we were booted out of the ba lounge two hours before the flight when it was finally cancelled the ba staff without explanation told everyone to go to a gate after another hour or so they made us re enter the uk via passport control a further minute wait by now the airport was closing and there was no sign of our bags or any help from ba a passing gatwick engineer finally helped us locate the bags ba completely washed their hands of us and in contravention of caa rules refused to find us accommodation many slept in a bus stop overnight there were people with young children who couldn t find somewhere to stay and yet ba had closed down and left the following day the replacement flight was also late and due to an admin mistake had no catering or liquids for a hr flight overall the service was shockingly bad the worst i have experienced from any airline i will not ever use them again\n",
      "trip verified cancelled our flight last minute then moved us onto a flight days later operated by japan airlines we had paid a lot extra for extra legroom seats as i am very tall and they assigned me a middle seat deep in the middle of the plane because it was operated by a different airline but booked by ba neither ba nor the other airline could change my seat over the phone despite seats being available after hours of waiting in queues and sitting on hold their solution was for me to arrive early at the airport i did but the seats had already been given away for free by people who had booked directly with that airline and could check in online i got a meal voucher as compensation for this enormous downgrade on a hour flight never again will i fly ba i would rather fly indirect with better airlines than use this disgrace of an airline again\n",
      "trip verified i had a flight from miami florida to dublin ireland via london s heathrow airport the outbound flight from miami was delayed and we were further delayed when our gate was occupied when we arrived in heathrow the total delay was roughly an hour but it was enough to make our connection a challenge where we had minutes between original arrival time until the departure time to dublin when we headed to our connection flight we were stopped by security personnel at a checkpoint and told us that the gate to our connection flight had already closed this was twenty minutes prior to departure time they ushered us to customer service to be rebooked given the busy weekend of travel we were rebooked on a flight at a different airport and were told that our cost to get there would be reimbursed we then waited hours for our luggage and then took a cab to london s city airport the cab fare was roughly when i filed a claim with british airways they refused the claim and told me that we had plenty of time to make our connecting flight and therefore they denied my claim to be reimbursed for the cab fare this is after i explained that it was british airways employees who ushered us to rebook the flight despite the minute timeframe to make the connecting flight the person who rebooked us told us it was policy that they close the gate minutes prior to departure i will never fly this awful airline again given the other feedback on this site it appears that that is the overwhelming sentiment\n",
      "trip verified we started our day with ba in prague the flight actually left on time i came to find out that s very unusual we purchased business class seats as you can see from the picture they hardly were business class all they did was block off the middle seat in the first few rows and called it business class horrible flight in addition i had a really rude rude check in clerk basically yell at me when i excused myself and asked if she could give a little bit of priority to the many business class passengers who weren t being served then we got to heathrow and the real fun began we had a hour delay they gave us about different excuses for the delay i had a few employees walk away while i was asking them questions they were very rude at one point there were no employees left and from the announcements it seems virtually every ba flight was delayed and there were no weather issues there was no place to comfortably store items in business class i ve never experienced that before not even a cup holder for my bottle of water the seat controls didn t work well you had to keep pushing the buttons to get them to do anything the power outlet didn t work there was no internet the entire flight the overhead luggage bin was too heavy i almost got a hernia having to close it this is a horrible airline i ll never fly with them again if i could give zero stars i would\n",
      "trip verified i fly british airways weekly not because i want to but because they own the route there s no other option therefore they frankly don t have to care about the customer the flights are always delayed and it s always someone else s fault be it weather delays to incoming aircraft or flight traffic control issues i ve heard it all and for the life of me cannot understand why they are allowed to operate i ve been around the world and traveled with all of the world s airlines but british airways are really the worst of the worst it s such a shame to have watched what used to be a good company fall down a cliff my advice is if you have an option to fly with anyone else then exercise the option but if you re flying with different connections and you have a tight schedule do not expect ba to get you to your destination in time\n",
      "not verified everything was ok until our connecting flight in london just before take off we were on the runway the pilot came on to announce an engine problem after engineers tried to fix it while we waited on the plane for over an hour we were finally told that we would have to be evacuated and rebooked for another flight but not to worry because a special crew was waiting for us on the ground to help us and set us up in a hotel except that there was no one to help us in fact everyone refused to help us it was saturday almost pm and they just wanted to go home anyone with a connecting flight couldn t rebook on the application because the app wouldn t disassociate our first flight with the connecting one in london and the staff saw this but still refused to help us they gave us a phone number but there was only a message that said just to use the app finally i got someone on the phone who rebooked us for the next day now it s pm and i have to find a hotel room because the airline refused also to help us with that so i had choices either sleep in the airport or pay over gbp for a room i don t have the money to pay for this but after a hour flight hours of jet lag and the insane stress after the fact that no one from british airways would help us i took the room of course i claimed reimbursement but that was over weeks ago and i haven t heard anything since so i have no idea when or how much i ll be reimbursed even though i m not claiming any emotional compensation from the horrible situation they put me through due to their total indifference it s financially difficult for me right now because the money i had to put out is equal to half my salary and of course it s impossible to reach them by phone i feel still as i did on august completely trapped by them and their indifference with no solution or information\n",
      "not verified my initial flight was cancelled hours prior the flight then i was automatically rescheduled for next day next day the flight was delayed leaving hamburg and missed my connecting flight to las vegas me and several other passengers spent the night in london british airways provided us with vouchers but the transfer bus dropped us at the wrong hotel closest to our hotel and told us that we can walk there if we want to as a result i lost two nights hotel reservations that i made in las vegas i opened a claim and provided all receipts to british airways to get refund of my hotel reservations but over weeks now not a single feedback from british airways i will avoid all flights with them in future and will share this story\n"
     ]
    }
   ],
   "source": [
    "data['cleaned_review'] = data['reviews'].apply(clean_review)\n",
    "\n",
    "# Lets have a look at a sample of texts after cleaning\n",
    "\n",
    "print(*data['cleaned_review'][:10], sep=\"\\n\")"
   ]
  },
  {
   "cell_type": "markdown",
   "metadata": {},
   "source": [
    "## Text Tokenization"
   ]
  },
  {
   "cell_type": "code",
   "execution_count": 53,
   "metadata": {},
   "outputs": [
    {
     "data": {
      "text/html": [
       "<div>\n",
       "<style scoped>\n",
       "    .dataframe tbody tr th:only-of-type {\n",
       "        vertical-align: middle;\n",
       "    }\n",
       "\n",
       "    .dataframe tbody tr th {\n",
       "        vertical-align: top;\n",
       "    }\n",
       "\n",
       "    .dataframe thead th {\n",
       "        text-align: right;\n",
       "    }\n",
       "</style>\n",
       "<table border=\"1\" class=\"dataframe\">\n",
       "  <thead>\n",
       "    <tr style=\"text-align: right;\">\n",
       "      <th></th>\n",
       "      <th>reviews</th>\n",
       "      <th>verified</th>\n",
       "      <th>review_len</th>\n",
       "      <th>cleaned_review</th>\n",
       "      <th>tokenized_review</th>\n",
       "    </tr>\n",
       "  </thead>\n",
       "  <tbody>\n",
       "    <tr>\n",
       "      <th>0</th>\n",
       "      <td>â Trip Verified |  I take comfort in reading...</td>\n",
       "      <td>True</td>\n",
       "      <td>727</td>\n",
       "      <td>trip verified i take comfort in reading the la...</td>\n",
       "      <td>[trip, verified, i, take, comfort, in, reading...</td>\n",
       "    </tr>\n",
       "    <tr>\n",
       "      <th>1</th>\n",
       "      <td>â Trip Verified |  The worst journey in my l...</td>\n",
       "      <td>True</td>\n",
       "      <td>1077</td>\n",
       "      <td>trip verified the worst journey in my life the...</td>\n",
       "      <td>[trip, verified, the, worst, journey, in, my, ...</td>\n",
       "    </tr>\n",
       "    <tr>\n",
       "      <th>2</th>\n",
       "      <td>â Trip Verified | The airplanes and the loun...</td>\n",
       "      <td>True</td>\n",
       "      <td>342</td>\n",
       "      <td>trip verified the airplanes and the lounges ar...</td>\n",
       "      <td>[trip, verified, the, airplanes, and, the, lou...</td>\n",
       "    </tr>\n",
       "    <tr>\n",
       "      <th>3</th>\n",
       "      <td>â Trip Verified | One of the worst experienc...</td>\n",
       "      <td>True</td>\n",
       "      <td>1203</td>\n",
       "      <td>trip verified one of the worst experiences on ...</td>\n",
       "      <td>[trip, verified, one, of, the, worst, experien...</td>\n",
       "    </tr>\n",
       "    <tr>\n",
       "      <th>4</th>\n",
       "      <td>â Trip Verified |  Cancelled our flight last...</td>\n",
       "      <td>True</td>\n",
       "      <td>881</td>\n",
       "      <td>trip verified cancelled our flight last minute...</td>\n",
       "      <td>[trip, verified, cancelled, our, flight, last,...</td>\n",
       "    </tr>\n",
       "  </tbody>\n",
       "</table>\n",
       "</div>"
      ],
      "text/plain": [
       "                                             reviews  verified  review_len  \\\n",
       "0  â\n",
       " Trip Verified |  I take comfort in reading...      True         727   \n",
       "1  â\n",
       " Trip Verified |  The worst journey in my l...      True        1077   \n",
       "2  â\n",
       " Trip Verified | The airplanes and the loun...      True         342   \n",
       "3  â\n",
       " Trip Verified | One of the worst experienc...      True        1203   \n",
       "4  â\n",
       " Trip Verified |  Cancelled our flight last...      True         881   \n",
       "\n",
       "                                      cleaned_review  \\\n",
       "0  trip verified i take comfort in reading the la...   \n",
       "1  trip verified the worst journey in my life the...   \n",
       "2  trip verified the airplanes and the lounges ar...   \n",
       "3  trip verified one of the worst experiences on ...   \n",
       "4  trip verified cancelled our flight last minute...   \n",
       "\n",
       "                                    tokenized_review  \n",
       "0  [trip, verified, i, take, comfort, in, reading...  \n",
       "1  [trip, verified, the, worst, journey, in, my, ...  \n",
       "2  [trip, verified, the, airplanes, and, the, lou...  \n",
       "3  [trip, verified, one, of, the, worst, experien...  \n",
       "4  [trip, verified, cancelled, our, flight, last,...  "
      ]
     },
     "execution_count": 53,
     "metadata": {},
     "output_type": "execute_result"
    }
   ],
   "source": [
    "data[\"tokenized_review\"] = data[\"cleaned_review\"].apply(nltk.word_tokenize)\n",
    "\n",
    "data.head()"
   ]
  },
  {
   "cell_type": "markdown",
   "metadata": {},
   "source": [
    "# Removing Stopwords"
   ]
  },
  {
   "cell_type": "code",
   "execution_count": 54,
   "metadata": {},
   "outputs": [],
   "source": [
    "# Removing the stopwords function\n",
    "\n",
    "def remove_stopwords(text):\n",
    "    stop_word = set(stopwords.words(\"english\"))\n",
    "    filtered_text = [word for word in text if word not in stop_word]\n",
    "    return filtered_text"
   ]
  },
  {
   "cell_type": "code",
   "execution_count": 55,
   "metadata": {},
   "outputs": [
    {
     "data": {
      "text/html": [
       "<div>\n",
       "<style scoped>\n",
       "    .dataframe tbody tr th:only-of-type {\n",
       "        vertical-align: middle;\n",
       "    }\n",
       "\n",
       "    .dataframe tbody tr th {\n",
       "        vertical-align: top;\n",
       "    }\n",
       "\n",
       "    .dataframe thead th {\n",
       "        text-align: right;\n",
       "    }\n",
       "</style>\n",
       "<table border=\"1\" class=\"dataframe\">\n",
       "  <thead>\n",
       "    <tr style=\"text-align: right;\">\n",
       "      <th></th>\n",
       "      <th>reviews</th>\n",
       "      <th>verified</th>\n",
       "      <th>review_len</th>\n",
       "      <th>cleaned_review</th>\n",
       "      <th>tokenized_review</th>\n",
       "      <th>no_stopword_text</th>\n",
       "    </tr>\n",
       "  </thead>\n",
       "  <tbody>\n",
       "    <tr>\n",
       "      <th>0</th>\n",
       "      <td>â Trip Verified |  I take comfort in reading...</td>\n",
       "      <td>True</td>\n",
       "      <td>727</td>\n",
       "      <td>trip verified i take comfort in reading the la...</td>\n",
       "      <td>[trip, verified, i, take, comfort, in, reading...</td>\n",
       "      <td>[trip, verified, take, comfort, reading, last,...</td>\n",
       "    </tr>\n",
       "    <tr>\n",
       "      <th>1</th>\n",
       "      <td>â Trip Verified |  The worst journey in my l...</td>\n",
       "      <td>True</td>\n",
       "      <td>1077</td>\n",
       "      <td>trip verified the worst journey in my life the...</td>\n",
       "      <td>[trip, verified, the, worst, journey, in, my, ...</td>\n",
       "      <td>[trip, verified, worst, journey, life, connect...</td>\n",
       "    </tr>\n",
       "    <tr>\n",
       "      <th>2</th>\n",
       "      <td>â Trip Verified | The airplanes and the loun...</td>\n",
       "      <td>True</td>\n",
       "      <td>342</td>\n",
       "      <td>trip verified the airplanes and the lounges ar...</td>\n",
       "      <td>[trip, verified, the, airplanes, and, the, lou...</td>\n",
       "      <td>[trip, verified, airplanes, lounges, worn, old...</td>\n",
       "    </tr>\n",
       "    <tr>\n",
       "      <th>3</th>\n",
       "      <td>â Trip Verified | One of the worst experienc...</td>\n",
       "      <td>True</td>\n",
       "      <td>1203</td>\n",
       "      <td>trip verified one of the worst experiences on ...</td>\n",
       "      <td>[trip, verified, one, of, the, worst, experien...</td>\n",
       "      <td>[trip, verified, one, worst, experiences, wors...</td>\n",
       "    </tr>\n",
       "    <tr>\n",
       "      <th>4</th>\n",
       "      <td>â Trip Verified |  Cancelled our flight last...</td>\n",
       "      <td>True</td>\n",
       "      <td>881</td>\n",
       "      <td>trip verified cancelled our flight last minute...</td>\n",
       "      <td>[trip, verified, cancelled, our, flight, last,...</td>\n",
       "      <td>[trip, verified, cancelled, flight, last, minu...</td>\n",
       "    </tr>\n",
       "  </tbody>\n",
       "</table>\n",
       "</div>"
      ],
      "text/plain": [
       "                                             reviews  verified  review_len  \\\n",
       "0  â\n",
       " Trip Verified |  I take comfort in reading...      True         727   \n",
       "1  â\n",
       " Trip Verified |  The worst journey in my l...      True        1077   \n",
       "2  â\n",
       " Trip Verified | The airplanes and the loun...      True         342   \n",
       "3  â\n",
       " Trip Verified | One of the worst experienc...      True        1203   \n",
       "4  â\n",
       " Trip Verified |  Cancelled our flight last...      True         881   \n",
       "\n",
       "                                      cleaned_review  \\\n",
       "0  trip verified i take comfort in reading the la...   \n",
       "1  trip verified the worst journey in my life the...   \n",
       "2  trip verified the airplanes and the lounges ar...   \n",
       "3  trip verified one of the worst experiences on ...   \n",
       "4  trip verified cancelled our flight last minute...   \n",
       "\n",
       "                                    tokenized_review  \\\n",
       "0  [trip, verified, i, take, comfort, in, reading...   \n",
       "1  [trip, verified, the, worst, journey, in, my, ...   \n",
       "2  [trip, verified, the, airplanes, and, the, lou...   \n",
       "3  [trip, verified, one, of, the, worst, experien...   \n",
       "4  [trip, verified, cancelled, our, flight, last,...   \n",
       "\n",
       "                                    no_stopword_text  \n",
       "0  [trip, verified, take, comfort, reading, last,...  \n",
       "1  [trip, verified, worst, journey, life, connect...  \n",
       "2  [trip, verified, airplanes, lounges, worn, old...  \n",
       "3  [trip, verified, one, worst, experiences, wors...  \n",
       "4  [trip, verified, cancelled, flight, last, minu...  "
      ]
     },
     "execution_count": 55,
     "metadata": {},
     "output_type": "execute_result"
    }
   ],
   "source": [
    "data[\"no_stopword_text\"] = data[\"tokenized_review\"].apply(remove_stopwords)\n",
    "\n",
    "data.head()"
   ]
  },
  {
   "cell_type": "markdown",
   "metadata": {},
   "source": [
    "## Lemmatization"
   ]
  },
  {
   "cell_type": "code",
   "execution_count": 56,
   "metadata": {},
   "outputs": [],
   "source": [
    "lemmatizer = WordNetLemmatizer()\n",
    "\n",
    "# lemmatize string function\n",
    "\n",
    "def lemmatize_word(text):\n",
    "    #provice context i.e. part-of-speech (pos)\n",
    "    # v = verb\n",
    "    lemmas = [lemmatizer.lemmatize(word, pos='v') for word in text]\n",
    "\n",
    "    return lemmas"
   ]
  },
  {
   "cell_type": "code",
   "execution_count": 57,
   "metadata": {},
   "outputs": [
    {
     "data": {
      "text/html": [
       "<div>\n",
       "<style scoped>\n",
       "    .dataframe tbody tr th:only-of-type {\n",
       "        vertical-align: middle;\n",
       "    }\n",
       "\n",
       "    .dataframe tbody tr th {\n",
       "        vertical-align: top;\n",
       "    }\n",
       "\n",
       "    .dataframe thead th {\n",
       "        text-align: right;\n",
       "    }\n",
       "</style>\n",
       "<table border=\"1\" class=\"dataframe\">\n",
       "  <thead>\n",
       "    <tr style=\"text-align: right;\">\n",
       "      <th></th>\n",
       "      <th>reviews</th>\n",
       "      <th>verified</th>\n",
       "      <th>review_len</th>\n",
       "      <th>cleaned_review</th>\n",
       "      <th>tokenized_review</th>\n",
       "      <th>no_stopword_text</th>\n",
       "      <th>lemmatize_word</th>\n",
       "    </tr>\n",
       "  </thead>\n",
       "  <tbody>\n",
       "    <tr>\n",
       "      <th>0</th>\n",
       "      <td>â Trip Verified |  I take comfort in reading...</td>\n",
       "      <td>True</td>\n",
       "      <td>727</td>\n",
       "      <td>trip verified i take comfort in reading the la...</td>\n",
       "      <td>[trip, verified, i, take, comfort, in, reading...</td>\n",
       "      <td>[trip, verified, take, comfort, reading, last,...</td>\n",
       "      <td>[trip, verify, take, comfort, read, last, ten,...</td>\n",
       "    </tr>\n",
       "    <tr>\n",
       "      <th>1</th>\n",
       "      <td>â Trip Verified |  The worst journey in my l...</td>\n",
       "      <td>True</td>\n",
       "      <td>1077</td>\n",
       "      <td>trip verified the worst journey in my life the...</td>\n",
       "      <td>[trip, verified, the, worst, journey, in, my, ...</td>\n",
       "      <td>[trip, verified, worst, journey, life, connect...</td>\n",
       "      <td>[trip, verify, worst, journey, life, connectio...</td>\n",
       "    </tr>\n",
       "    <tr>\n",
       "      <th>2</th>\n",
       "      <td>â Trip Verified | The airplanes and the loun...</td>\n",
       "      <td>True</td>\n",
       "      <td>342</td>\n",
       "      <td>trip verified the airplanes and the lounges ar...</td>\n",
       "      <td>[trip, verified, the, airplanes, and, the, lou...</td>\n",
       "      <td>[trip, verified, airplanes, lounges, worn, old...</td>\n",
       "      <td>[trip, verify, airplanes, lounge, wear, old, b...</td>\n",
       "    </tr>\n",
       "    <tr>\n",
       "      <th>3</th>\n",
       "      <td>â Trip Verified | One of the worst experienc...</td>\n",
       "      <td>True</td>\n",
       "      <td>1203</td>\n",
       "      <td>trip verified one of the worst experiences on ...</td>\n",
       "      <td>[trip, verified, one, of, the, worst, experien...</td>\n",
       "      <td>[trip, verified, one, worst, experiences, wors...</td>\n",
       "      <td>[trip, verify, one, worst, experience, worst, ...</td>\n",
       "    </tr>\n",
       "    <tr>\n",
       "      <th>4</th>\n",
       "      <td>â Trip Verified |  Cancelled our flight last...</td>\n",
       "      <td>True</td>\n",
       "      <td>881</td>\n",
       "      <td>trip verified cancelled our flight last minute...</td>\n",
       "      <td>[trip, verified, cancelled, our, flight, last,...</td>\n",
       "      <td>[trip, verified, cancelled, flight, last, minu...</td>\n",
       "      <td>[trip, verify, cancel, flight, last, minute, m...</td>\n",
       "    </tr>\n",
       "  </tbody>\n",
       "</table>\n",
       "</div>"
      ],
      "text/plain": [
       "                                             reviews  verified  review_len  \\\n",
       "0  â\n",
       " Trip Verified |  I take comfort in reading...      True         727   \n",
       "1  â\n",
       " Trip Verified |  The worst journey in my l...      True        1077   \n",
       "2  â\n",
       " Trip Verified | The airplanes and the loun...      True         342   \n",
       "3  â\n",
       " Trip Verified | One of the worst experienc...      True        1203   \n",
       "4  â\n",
       " Trip Verified |  Cancelled our flight last...      True         881   \n",
       "\n",
       "                                      cleaned_review  \\\n",
       "0  trip verified i take comfort in reading the la...   \n",
       "1  trip verified the worst journey in my life the...   \n",
       "2  trip verified the airplanes and the lounges ar...   \n",
       "3  trip verified one of the worst experiences on ...   \n",
       "4  trip verified cancelled our flight last minute...   \n",
       "\n",
       "                                    tokenized_review  \\\n",
       "0  [trip, verified, i, take, comfort, in, reading...   \n",
       "1  [trip, verified, the, worst, journey, in, my, ...   \n",
       "2  [trip, verified, the, airplanes, and, the, lou...   \n",
       "3  [trip, verified, one, of, the, worst, experien...   \n",
       "4  [trip, verified, cancelled, our, flight, last,...   \n",
       "\n",
       "                                    no_stopword_text  \\\n",
       "0  [trip, verified, take, comfort, reading, last,...   \n",
       "1  [trip, verified, worst, journey, life, connect...   \n",
       "2  [trip, verified, airplanes, lounges, worn, old...   \n",
       "3  [trip, verified, one, worst, experiences, wors...   \n",
       "4  [trip, verified, cancelled, flight, last, minu...   \n",
       "\n",
       "                                      lemmatize_word  \n",
       "0  [trip, verify, take, comfort, read, last, ten,...  \n",
       "1  [trip, verify, worst, journey, life, connectio...  \n",
       "2  [trip, verify, airplanes, lounge, wear, old, b...  \n",
       "3  [trip, verify, one, worst, experience, worst, ...  \n",
       "4  [trip, verify, cancel, flight, last, minute, m...  "
      ]
     },
     "execution_count": 57,
     "metadata": {},
     "output_type": "execute_result"
    }
   ],
   "source": [
    "data['lemmatize_word'] = data['no_stopword_text'].apply(lemmatize_word)\n",
    "# Membuat kolom 'lemmatize_word' dengan menerapkan fungsi lemmatize_word pada kolom 'text'\n",
    "\n",
    "data.head()"
   ]
  },
  {
   "cell_type": "markdown",
   "metadata": {},
   "source": [
    "# Vectorization"
   ]
  },
  {
   "cell_type": "markdown",
   "metadata": {},
   "source": [
    "## Corpus Text"
   ]
  },
  {
   "cell_type": "code",
   "execution_count": 58,
   "metadata": {},
   "outputs": [
    {
     "name": "stdout",
     "output_type": "stream",
     "text": [
      "The first 10 lines in corpus : \n",
      "\n",
      "trip verify take comfort read last ten review see traveller put word absolutely abysmal british airways reason stick use awful airline use point book club europe months ago london athens sit row tell run food options choice lentil pie green curry return athens london club europe check online promise arrive airport hrs early tell overbooked flight basically bump economy airline fail deliver time time national disgrace implore everyone choose alternative\n",
      "trip verify worst journey life connection time lhr hour flight mxp delay rush change terminal train arrive risk heart attack plane stay another minutes despite upon arrival sjc baggage lose fill form give employee give receipt reference number ba phone number sjc simply never answer call twice toll free number realize record delivery address enter online deal shitty website deliver baggage three days later claim compensation online buy clothe stuff never get receipt expect upgrade flight back mxp nothing happen neither allow enter ba lounge sjc bad customer service positive side price obviously justify treatment know would never fly ba never\n",
      "trip verify airplanes lounge wear old break dallas heathrow multiple first class seat electronics non functional poorly design first class seat heathrow dubrovnik nothing tray block middle seat standard coach ticket disappoint\n",
      "trip verify one worst experience worst airline flight delay due earlier technical issue time slip finally cancel zero information give despite pay well odds business class boot ba lounge two hours flight finally cancel ba staff without explanation tell everyone go gate another hour make us enter uk via passport control minute wait airport close sign bag help ba pass gatwick engineer finally help us locate bag ba completely wash hand us contravention caa rule refuse find us accommodation many sleep bus stop overnight people young children find somewhere stay yet ba close leave follow day replacement flight also late due admin mistake cater liquids hr flight overall service shockingly bad worst experience airline ever use\n",
      "trip verify cancel flight last minute move us onto flight days later operate japan airlines pay lot extra extra legroom seat tall assign middle seat deep middle plane operate different airline book ba neither ba airline could change seat phone despite seat available hours wait queue sit hold solution arrive early airport seat already give away free people book directly airline could check online get meal voucher compensation enormous downgrade hour flight never fly ba would rather fly indirect better airlines use disgrace airline\n",
      "trip verify flight miami florida dublin ireland via london heathrow airport outbound flight miami delay delay gate occupy arrive heathrow total delay roughly hour enough make connection challenge minutes original arrival time departure time dublin head connection flight stop security personnel checkpoint tell us gate connection flight already close twenty minutes prior departure time usher us customer service rebooked give busy weekend travel rebooked flight different airport tell cost get would reimburse wait hours luggage take cab london city airport cab fare roughly file claim british airways refuse claim tell plenty time make connect flight therefore deny claim reimburse cab fare explain british airways employees usher us rebook flight despite minute timeframe make connect flight person rebooked us tell us policy close gate minutes prior departure never fly awful airline give feedback site appear overwhelm sentiment\n",
      "trip verify start day ba prague flight actually leave time come find unusual purchase business class seat see picture hardly business class block middle seat first row call business class horrible flight addition really rude rude check clerk basically yell excuse ask could give little bite priority many business class passengers serve get heathrow real fun begin hour delay give us different excuse delay employees walk away ask question rude one point employees leave announcements seem virtually every ba flight delay weather issue place comfortably store items business class never experience even cup holder bottle water seat control work well keep push button get anything power outlet work internet entire flight overhead luggage bin heavy almost get hernia close horrible airline never fly could give zero star would\n",
      "trip verify fly british airways weekly want route option therefore frankly care customer flight always delay always someone else fault weather delay incoming aircraft flight traffic control issue hear life understand allow operate around world travel world airlines british airways really worst worst shame watch use good company fall cliff advice option fly anyone else exercise option fly different connections tight schedule expect ba get destination time\n",
      "verify everything ok connect flight london take runway pilot come announce engine problem engineer try fix wait plane hour finally tell would evacuate rebooked another flight worry special crew wait us grind help us set us hotel except one help us fact everyone refuse help us saturday almost pm want go home anyone connect flight rebook application app disassociate first flight connect one london staff saw still refuse help us give us phone number message say use app finally get someone phone rebooked us next day pm find hotel room airline refuse also help us choices either sleep airport pay gbp room money pay hour flight hours jet lag insane stress fact one british airways would help us take room course claim reimbursement weeks ago hear anything since idea much reimburse even though claim emotional compensation horrible situation put due total indifference financially difficult right money put equal half salary course impossible reach phone feel still august completely trap indifference solution information\n",
      "verify initial flight cancel hours prior flight automatically reschedule next day next day flight delay leave hamburg miss connect flight las vegas several passengers spend night london british airways provide us vouchers transfer bus drop us wrong hotel closest hotel tell us walk want result lose two nights hotel reservations make las vegas open claim provide receipt british airways get refund hotel reservations weeks single feedback british airways avoid flight future share story\n"
     ]
    }
   ],
   "source": [
    "# creating Corpus Text to encode furher into vectorize form\n",
    "\n",
    "corpus = []\n",
    "for i in data[\"lemmatize_word\"]:\n",
    "    msg = ' '.join([row for row in i])\n",
    "    corpus.append(msg)\n",
    "\n",
    "print(\"The first 10 lines in corpus : \\n\")\n",
    "print(*corpus[:10], sep=\"\\n\")"
   ]
  },
  {
   "cell_type": "code",
   "execution_count": 74,
   "metadata": {},
   "outputs": [
    {
     "name": "stdout",
     "output_type": "stream",
     "text": [
      "            Kata  Frekuensi\n",
      "49        flight       2147\n",
      "94            ba       1179\n",
      "1         verify       1008\n",
      "149         seat        992\n",
      "0           trip        923\n",
      "...          ...        ...\n",
      "3567      spring          1\n",
      "3568      midday          1\n",
      "3569  supposedly          1\n",
      "3571    oxymoron          1\n",
      "5558       obese          1\n",
      "\n",
      "[5559 rows x 2 columns]\n"
     ]
    }
   ],
   "source": [
    "# Tokenisasi teks menjadi kata-kata\n",
    "tokens = ' '.join(corpus).split()\n",
    "\n",
    "# Hitung frekuensi kata\n",
    "word_freq = Counter(tokens)\n",
    "\n",
    "# Ubah hasil perhitungan ke dalam DataFrame\n",
    "word_freq_df = pd.DataFrame(word_freq.items(), columns=['Kata', 'Frekuensi'])\n",
    "\n",
    "# Sort DataFrame berdasarkan frekuensi kata\n",
    "word_freq_df = word_freq_df.sort_values(by='Frekuensi', ascending=False)\n",
    "\n",
    "# Tampilkan DataFrame dengan frekuensi kata\n",
    "print(word_freq_df)"
   ]
  },
  {
   "cell_type": "code",
   "execution_count": 76,
   "metadata": {},
   "outputs": [
    {
     "data": {
      "image/png": "[encoded data removed]",
      "text/plain": [
       "<Figure size 1000x600 with 1 Axes>"
      ]
     },
     "metadata": {},
     "output_type": "display_data"
    }
   ],
   "source": [
    "top_words = word_freq_df.head(10)\n",
    "\n",
    "# Membuat diagram batang horizontal\n",
    "plt.figure(figsize=(10, 6))\n",
    "plt.barh(top_words['Kata'], top_words['Frekuensi'], color='skyblue')\n",
    "plt.xlabel('Frekuensi')\n",
    "plt.ylabel('Kata')\n",
    "plt.title('Top 20 Kata Berdasarkan Frekuensi')\n",
    "plt.gca().invert_yaxis()  # Membalik urutan agar kata teratas ada di atas\n",
    "plt.show()"
   ]
  },
  {
   "cell_type": "code",
   "execution_count": 77,
   "metadata": {},
   "outputs": [
    {
     "name": "stdout",
     "output_type": "stream",
     "text": [
      "Contoh Bigram:\n",
      "1: trip verify\n",
      "2: verify take\n",
      "3: take comfort\n",
      "4: comfort read\n",
      "5: read last\n",
      "6: last ten\n",
      "7: ten review\n",
      "8: review see\n",
      "9: see traveller\n",
      "10: traveller put\n"
     ]
    }
   ],
   "source": [
    "# Fungsi untuk membuat n-grams dari teks\n",
    "def generate_ngrams(text, n):\n",
    "    words = text.split()\n",
    "    n_grams = ngrams(words, n)\n",
    "    return [' '.join(gram) for gram in n_grams]\n",
    "\n",
    "# Contoh membuat bigram (n=2) dari teks dalam corpus\n",
    "n = 2  # Ganti dengan nilai n sesuai dengan jenis n-grams yang Anda inginkan (misalnya, 2 untuk bigram)\n",
    "ngram_corpus = [generate_ngrams(text, n) for text in corpus]\n",
    "\n",
    "# Tampilkan contoh hasil bigram\n",
    "print(\"Contoh Bigram:\")\n",
    "for i, bigram in enumerate(ngram_corpus[0][:10]):\n",
    "    print(f\"{i + 1}: {bigram}\")\n"
   ]
  },
  {
   "cell_type": "code",
   "execution_count": 78,
   "metadata": {},
   "outputs": [
    {
     "data": {
      "image/png": "[encoded data removed]",
      "text/plain": [
       "<Figure size 1000x600 with 1 Axes>"
      ]
     },
     "metadata": {},
     "output_type": "display_data"
    }
   ],
   "source": [
    "# Menggabungkan semua n-grams menjadi satu list\n",
    "all_ngrams = [' '.join(ngram) for ngram_list in ngram_corpus for ngram in ngram_list]\n",
    "\n",
    "# Menghitung frekuensi n-grams\n",
    "ngram_freq = Counter(all_ngrams)\n",
    "\n",
    "# Mengambil 10 n-grams teratas\n",
    "top_ngrams = ngram_freq.most_common(10)\n",
    "\n",
    "# Membagi n-grams dan frekuensinya\n",
    "ngrams, freq = zip(*top_ngrams)\n",
    "\n",
    "# Membuat diagram batang\n",
    "plt.figure(figsize=(10, 6))\n",
    "plt.barh(ngrams, freq)\n",
    "plt.xlabel('Frekuensi')\n",
    "plt.ylabel('N-Gram')\n",
    "plt.title('Top 10 N-Grams')\n",
    "plt.gca().invert_yaxis()  # Membalik urutan agar n-grams teratas di bagian atas\n",
    "plt.show()"
   ]
  },
  {
   "cell_type": "markdown",
   "metadata": {},
   "source": [
    "# Sentimen Analyst"
   ]
  },
  {
   "cell_type": "markdown",
   "metadata": {},
   "source": [
    "## Text Clustering"
   ]
  },
  {
   "cell_type": "code",
   "execution_count": 79,
   "metadata": {},
   "outputs": [
    {
     "data": {
      "text/plain": [
       "2"
      ]
     },
     "execution_count": 79,
     "metadata": {},
     "output_type": "execute_result"
    }
   ],
   "source": [
    "categories = ['negative', 'positive']\n",
    "num_cat = len(categories)\n",
    "num_cat"
   ]
  },
  {
   "cell_type": "code",
   "execution_count": 81,
   "metadata": {},
   "outputs": [],
   "source": [
    "from nltk.probability import FreqDist\n",
    "\n",
    "from sklearn.feature_extraction import text\n",
    "from sklearn.feature_extraction.text import TfidfVectorizer\n",
    "\n",
    "from sklearn.preprocessing import LabelEncoder\n",
    "from sklearn.model_selection import train_test_split"
   ]
  },
  {
   "cell_type": "markdown",
   "metadata": {},
   "source": [
    "## Converting the corpus in vector form"
   ]
  },
  {
   "cell_type": "code",
   "execution_count": 82,
   "metadata": {},
   "outputs": [
    {
     "data": {
      "text/plain": [
       "dtype('float64')"
      ]
     },
     "execution_count": 82,
     "metadata": {},
     "output_type": "execute_result"
    }
   ],
   "source": [
    "# Changing text data in to number\n",
    "\n",
    "tfidf = TfidfVectorizer()\n",
    "X = tfidf.fit_transform(corpus).toarray()\n",
    "\n",
    "# Let's have a look at our feature\n",
    "X.dtype"
   ]
  },
  {
   "cell_type": "code",
   "execution_count": 83,
   "metadata": {},
   "outputs": [
    {
     "data": {
      "text/plain": [
       "array([[0., 0., 0., ..., 0., 0., 0.],\n",
       "       [0., 0., 0., ..., 0., 0., 0.],\n",
       "       [0., 0., 0., ..., 0., 0., 0.],\n",
       "       ...,\n",
       "       [0., 0., 0., ..., 0., 0., 0.],\n",
       "       [0., 0., 0., ..., 0., 0., 0.],\n",
       "       [0., 0., 0., ..., 0., 0., 0.]])"
      ]
     },
     "execution_count": 83,
     "metadata": {},
     "output_type": "execute_result"
    }
   ],
   "source": [
    "X"
   ]
  },
  {
   "cell_type": "markdown",
   "metadata": {},
   "source": [
    "## Clustering reviews with K-Means Methonds"
   ]
  },
  {
   "cell_type": "code",
   "execution_count": 85,
   "metadata": {},
   "outputs": [
    {
     "name": "stderr",
     "output_type": "stream",
     "text": [
      "c:\\Users\\ASUS\\.virtualenvs\\Deployment2-A3cDa8YU\\lib\\site-packages\\sklearn\\cluster\\_kmeans.py:870: FutureWarning: The default value of `n_init` will change from 10 to 'auto' in 1.4. Set the value of `n_init` explicitly to suppress the warning\n",
      "  warnings.warn(\n"
     ]
    },
    {
     "data": {
      "text/html": [
       "<style>#sk-container-id-1 {color: black;background-color: white;}#sk-container-id-1 pre{padding: 0;}#sk-container-id-1 div.sk-toggleable {background-color: white;}#sk-container-id-1 label.sk-toggleable__label {cursor: pointer;display: block;width: 100%;margin-bottom: 0;padding: 0.3em;box-sizing: border-box;text-align: center;}#sk-container-id-1 label.sk-toggleable__label-arrow:before {content: \"▸\";float: left;margin-right: 0.25em;color: #696969;}#sk-container-id-1 label.sk-toggleable__label-arrow:hover:before {color: black;}#sk-container-id-1 div.sk-estimator:hover label.sk-toggleable__label-arrow:before {color: black;}#sk-container-id-1 div.sk-toggleable__content {max-height: 0;max-width: 0;overflow: hidden;text-align: left;background-color: #f0f8ff;}#sk-container-id-1 div.sk-toggleable__content pre {margin: 0.2em;color: black;border-radius: 0.25em;background-color: #f0f8ff;}#sk-container-id-1 input.sk-toggleable__control:checked~div.sk-toggleable__content {max-height: 200px;max-width: 100%;overflow: auto;}#sk-container-id-1 input.sk-toggleable__control:checked~label.sk-toggleable__label-arrow:before {content: \"▾\";}#sk-container-id-1 div.sk-estimator input.sk-toggleable__control:checked~label.sk-toggleable__label {background-color: #d4ebff;}#sk-container-id-1 div.sk-label input.sk-toggleable__control:checked~label.sk-toggleable__label {background-color: #d4ebff;}#sk-container-id-1 input.sk-hidden--visually {border: 0;clip: rect(1px 1px 1px 1px);clip: rect(1px, 1px, 1px, 1px);height: 1px;margin: -1px;overflow: hidden;padding: 0;position: absolute;width: 1px;}#sk-container-id-1 div.sk-estimator {font-family: monospace;background-color: #f0f8ff;border: 1px dotted black;border-radius: 0.25em;box-sizing: border-box;margin-bottom: 0.5em;}#sk-container-id-1 div.sk-estimator:hover {background-color: #d4ebff;}#sk-container-id-1 div.sk-parallel-item::after {content: \"\";width: 100%;border-bottom: 1px solid gray;flex-grow: 1;}#sk-container-id-1 div.sk-label:hover label.sk-toggleable__label {background-color: #d4ebff;}#sk-container-id-1 div.sk-serial::before {content: \"\";position: absolute;border-left: 1px solid gray;box-sizing: border-box;top: 0;bottom: 0;left: 50%;z-index: 0;}#sk-container-id-1 div.sk-serial {display: flex;flex-direction: column;align-items: center;background-color: white;padding-right: 0.2em;padding-left: 0.2em;position: relative;}#sk-container-id-1 div.sk-item {position: relative;z-index: 1;}#sk-container-id-1 div.sk-parallel {display: flex;align-items: stretch;justify-content: center;background-color: white;position: relative;}#sk-container-id-1 div.sk-item::before, #sk-container-id-1 div.sk-parallel-item::before {content: \"\";position: absolute;border-left: 1px solid gray;box-sizing: border-box;top: 0;bottom: 0;left: 50%;z-index: -1;}#sk-container-id-1 div.sk-parallel-item {display: flex;flex-direction: column;z-index: 1;position: relative;background-color: white;}#sk-container-id-1 div.sk-parallel-item:first-child::after {align-self: flex-end;width: 50%;}#sk-container-id-1 div.sk-parallel-item:last-child::after {align-self: flex-start;width: 50%;}#sk-container-id-1 div.sk-parallel-item:only-child::after {width: 0;}#sk-container-id-1 div.sk-dashed-wrapped {border: 1px dashed gray;margin: 0 0.4em 0.5em 0.4em;box-sizing: border-box;padding-bottom: 0.4em;background-color: white;}#sk-container-id-1 div.sk-label label {font-family: monospace;font-weight: bold;display: inline-block;line-height: 1.2em;}#sk-container-id-1 div.sk-label-container {text-align: center;}#sk-container-id-1 div.sk-container {/* jupyter's `normalize.less` sets `[hidden] { display: none; }` but bootstrap.min.css set `[hidden] { display: none !important; }` so we also need the `!important` here to be able to override the default hidden behavior on the sphinx rendered scikit-learn.org. See: https://github.com/scikit-learn/scikit-learn/issues/21755 */display: inline-block !important;position: relative;}#sk-container-id-1 div.sk-text-repr-fallback {display: none;}</style><div id=\"sk-container-id-1\" class=\"sk-top-container\"><div class=\"sk-text-repr-fallback\"><pre>KMeans(n_clusters=2, random_state=42)</pre><b>In a Jupyter environment, please rerun this cell to show the HTML representation or trust the notebook. <br />On GitHub, the HTML representation is unable to render, please try loading this page with nbviewer.org.</b></div><div class=\"sk-container\" hidden><div class=\"sk-item\"><div class=\"sk-estimator sk-toggleable\"><input class=\"sk-toggleable__control sk-hidden--visually\" id=\"sk-estimator-id-1\" type=\"checkbox\" checked><label for=\"sk-estimator-id-1\" class=\"sk-toggleable__label sk-toggleable__label-arrow\">KMeans</label><div class=\"sk-toggleable__content\"><pre>KMeans(n_clusters=2, random_state=42)</pre></div></div></div></div></div>"
      ],
      "text/plain": [
       "KMeans(n_clusters=2, random_state=42)"
      ]
     },
     "execution_count": 85,
     "metadata": {},
     "output_type": "execute_result"
    }
   ],
   "source": [
    "from sklearn.cluster import KMeans\n",
    "n_clusters = 2  # Ganti dengan jumlah kluster yang sesuai\n",
    "\n",
    "# Buat objek K-Means\n",
    "kmeans = KMeans(n_clusters=n_clusters, random_state=42)\n",
    "\n",
    "# Fit model K-Means ke data vektor teks\n",
    "kmeans.fit(X)  # vectors adalah matriks vektor teks\n"
   ]
  },
  {
   "cell_type": "code",
   "execution_count": 94,
   "metadata": {},
   "outputs": [
    {
     "data": {
      "text/html": [
       "<div>\n",
       "<style scoped>\n",
       "    .dataframe tbody tr th:only-of-type {\n",
       "        vertical-align: middle;\n",
       "    }\n",
       "\n",
       "    .dataframe tbody tr th {\n",
       "        vertical-align: top;\n",
       "    }\n",
       "\n",
       "    .dataframe thead th {\n",
       "        text-align: right;\n",
       "    }\n",
       "</style>\n",
       "<table border=\"1\" class=\"dataframe\">\n",
       "  <thead>\n",
       "    <tr style=\"text-align: right;\">\n",
       "      <th></th>\n",
       "      <th>reviews</th>\n",
       "      <th>verified</th>\n",
       "      <th>review_len</th>\n",
       "      <th>cleaned_review</th>\n",
       "      <th>tokenized_review</th>\n",
       "      <th>no_stopword_text</th>\n",
       "      <th>lemmatize_word</th>\n",
       "      <th>labels</th>\n",
       "    </tr>\n",
       "  </thead>\n",
       "  <tbody>\n",
       "    <tr>\n",
       "      <th>0</th>\n",
       "      <td>â Trip Verified |  I take comfort in reading...</td>\n",
       "      <td>True</td>\n",
       "      <td>727</td>\n",
       "      <td>trip verified i take comfort in reading the la...</td>\n",
       "      <td>[trip, verified, i, take, comfort, in, reading...</td>\n",
       "      <td>[trip, verified, take, comfort, reading, last,...</td>\n",
       "      <td>[trip, verify, take, comfort, read, last, ten,...</td>\n",
       "      <td>1</td>\n",
       "    </tr>\n",
       "    <tr>\n",
       "      <th>1</th>\n",
       "      <td>â Trip Verified |  The worst journey in my l...</td>\n",
       "      <td>True</td>\n",
       "      <td>1077</td>\n",
       "      <td>trip verified the worst journey in my life the...</td>\n",
       "      <td>[trip, verified, the, worst, journey, in, my, ...</td>\n",
       "      <td>[trip, verified, worst, journey, life, connect...</td>\n",
       "      <td>[trip, verify, worst, journey, life, connectio...</td>\n",
       "      <td>1</td>\n",
       "    </tr>\n",
       "    <tr>\n",
       "      <th>2</th>\n",
       "      <td>â Trip Verified | The airplanes and the loun...</td>\n",
       "      <td>True</td>\n",
       "      <td>342</td>\n",
       "      <td>trip verified the airplanes and the lounges ar...</td>\n",
       "      <td>[trip, verified, the, airplanes, and, the, lou...</td>\n",
       "      <td>[trip, verified, airplanes, lounges, worn, old...</td>\n",
       "      <td>[trip, verify, airplanes, lounge, wear, old, b...</td>\n",
       "      <td>0</td>\n",
       "    </tr>\n",
       "    <tr>\n",
       "      <th>3</th>\n",
       "      <td>â Trip Verified | One of the worst experienc...</td>\n",
       "      <td>True</td>\n",
       "      <td>1203</td>\n",
       "      <td>trip verified one of the worst experiences on ...</td>\n",
       "      <td>[trip, verified, one, of, the, worst, experien...</td>\n",
       "      <td>[trip, verified, one, worst, experiences, wors...</td>\n",
       "      <td>[trip, verify, one, worst, experience, worst, ...</td>\n",
       "      <td>1</td>\n",
       "    </tr>\n",
       "    <tr>\n",
       "      <th>4</th>\n",
       "      <td>â Trip Verified |  Cancelled our flight last...</td>\n",
       "      <td>True</td>\n",
       "      <td>881</td>\n",
       "      <td>trip verified cancelled our flight last minute...</td>\n",
       "      <td>[trip, verified, cancelled, our, flight, last,...</td>\n",
       "      <td>[trip, verified, cancelled, flight, last, minu...</td>\n",
       "      <td>[trip, verify, cancel, flight, last, minute, m...</td>\n",
       "      <td>1</td>\n",
       "    </tr>\n",
       "  </tbody>\n",
       "</table>\n",
       "</div>"
      ],
      "text/plain": [
       "                                             reviews  verified  review_len  \\\n",
       "0  â\n",
       " Trip Verified |  I take comfort in reading...      True         727   \n",
       "1  â\n",
       " Trip Verified |  The worst journey in my l...      True        1077   \n",
       "2  â\n",
       " Trip Verified | The airplanes and the loun...      True         342   \n",
       "3  â\n",
       " Trip Verified | One of the worst experienc...      True        1203   \n",
       "4  â\n",
       " Trip Verified |  Cancelled our flight last...      True         881   \n",
       "\n",
       "                                      cleaned_review  \\\n",
       "0  trip verified i take comfort in reading the la...   \n",
       "1  trip verified the worst journey in my life the...   \n",
       "2  trip verified the airplanes and the lounges ar...   \n",
       "3  trip verified one of the worst experiences on ...   \n",
       "4  trip verified cancelled our flight last minute...   \n",
       "\n",
       "                                    tokenized_review  \\\n",
       "0  [trip, verified, i, take, comfort, in, reading...   \n",
       "1  [trip, verified, the, worst, journey, in, my, ...   \n",
       "2  [trip, verified, the, airplanes, and, the, lou...   \n",
       "3  [trip, verified, one, of, the, worst, experien...   \n",
       "4  [trip, verified, cancelled, our, flight, last,...   \n",
       "\n",
       "                                    no_stopword_text  \\\n",
       "0  [trip, verified, take, comfort, reading, last,...   \n",
       "1  [trip, verified, worst, journey, life, connect...   \n",
       "2  [trip, verified, airplanes, lounges, worn, old...   \n",
       "3  [trip, verified, one, worst, experiences, wors...   \n",
       "4  [trip, verified, cancelled, flight, last, minu...   \n",
       "\n",
       "                                      lemmatize_word  labels  \n",
       "0  [trip, verify, take, comfort, read, last, ten,...       1  \n",
       "1  [trip, verify, worst, journey, life, connectio...       1  \n",
       "2  [trip, verify, airplanes, lounge, wear, old, b...       0  \n",
       "3  [trip, verify, one, worst, experience, worst, ...       1  \n",
       "4  [trip, verify, cancel, flight, last, minute, m...       1  "
      ]
     },
     "execution_count": 94,
     "metadata": {},
     "output_type": "execute_result"
    }
   ],
   "source": [
    "data['labels'] = kmeans.labels_\n",
    "data.head()"
   ]
  },
  {
   "cell_type": "code",
   "execution_count": 102,
   "metadata": {},
   "outputs": [
    {
     "data": {
      "text/plain": [
       "<Axes: xlabel='labels'>"
      ]
     },
     "execution_count": 102,
     "metadata": {},
     "output_type": "execute_result"
    },
    {
     "data": {
      "image/png": "[encoded data removed]",
      "text/plain": [
       "<Figure size 640x480 with 1 Axes>"
      ]
     },
     "metadata": {},
     "output_type": "display_data"
    }
   ],
   "source": [
    "data.labels.value_counts().plot(kind='bar')"
   ]
  },
  {
   "cell_type": "markdown",
   "metadata": {},
   "source": [
    "# Label Encoder"
   ]
  },
  {
   "cell_type": "code",
   "execution_count": 104,
   "metadata": {},
   "outputs": [],
   "source": [
    "# Make a label for target as y\n",
    "\n",
    "le = LabelEncoder()\n",
    "data['labels'] = le.fit_transform(data['labels'])"
   ]
  },
  {
   "cell_type": "code",
   "execution_count": 105,
   "metadata": {},
   "outputs": [
    {
     "data": {
      "text/html": [
       "<div>\n",
       "<style scoped>\n",
       "    .dataframe tbody tr th:only-of-type {\n",
       "        vertical-align: middle;\n",
       "    }\n",
       "\n",
       "    .dataframe tbody tr th {\n",
       "        vertical-align: top;\n",
       "    }\n",
       "\n",
       "    .dataframe thead th {\n",
       "        text-align: right;\n",
       "    }\n",
       "</style>\n",
       "<table border=\"1\" class=\"dataframe\">\n",
       "  <thead>\n",
       "    <tr style=\"text-align: right;\">\n",
       "      <th></th>\n",
       "      <th>reviews</th>\n",
       "      <th>verified</th>\n",
       "      <th>review_len</th>\n",
       "      <th>cleaned_review</th>\n",
       "      <th>tokenized_review</th>\n",
       "      <th>no_stopword_text</th>\n",
       "      <th>lemmatize_word</th>\n",
       "      <th>labels</th>\n",
       "    </tr>\n",
       "  </thead>\n",
       "  <tbody>\n",
       "    <tr>\n",
       "      <th>0</th>\n",
       "      <td>â Trip Verified |  I take comfort in reading...</td>\n",
       "      <td>True</td>\n",
       "      <td>727</td>\n",
       "      <td>trip verified i take comfort in reading the la...</td>\n",
       "      <td>[trip, verified, i, take, comfort, in, reading...</td>\n",
       "      <td>[trip, verified, take, comfort, reading, last,...</td>\n",
       "      <td>[trip, verify, take, comfort, read, last, ten,...</td>\n",
       "      <td>1</td>\n",
       "    </tr>\n",
       "    <tr>\n",
       "      <th>1</th>\n",
       "      <td>â Trip Verified |  The worst journey in my l...</td>\n",
       "      <td>True</td>\n",
       "      <td>1077</td>\n",
       "      <td>trip verified the worst journey in my life the...</td>\n",
       "      <td>[trip, verified, the, worst, journey, in, my, ...</td>\n",
       "      <td>[trip, verified, worst, journey, life, connect...</td>\n",
       "      <td>[trip, verify, worst, journey, life, connectio...</td>\n",
       "      <td>1</td>\n",
       "    </tr>\n",
       "    <tr>\n",
       "      <th>2</th>\n",
       "      <td>â Trip Verified | The airplanes and the loun...</td>\n",
       "      <td>True</td>\n",
       "      <td>342</td>\n",
       "      <td>trip verified the airplanes and the lounges ar...</td>\n",
       "      <td>[trip, verified, the, airplanes, and, the, lou...</td>\n",
       "      <td>[trip, verified, airplanes, lounges, worn, old...</td>\n",
       "      <td>[trip, verify, airplanes, lounge, wear, old, b...</td>\n",
       "      <td>0</td>\n",
       "    </tr>\n",
       "    <tr>\n",
       "      <th>3</th>\n",
       "      <td>â Trip Verified | One of the worst experienc...</td>\n",
       "      <td>True</td>\n",
       "      <td>1203</td>\n",
       "      <td>trip verified one of the worst experiences on ...</td>\n",
       "      <td>[trip, verified, one, of, the, worst, experien...</td>\n",
       "      <td>[trip, verified, one, worst, experiences, wors...</td>\n",
       "      <td>[trip, verify, one, worst, experience, worst, ...</td>\n",
       "      <td>1</td>\n",
       "    </tr>\n",
       "    <tr>\n",
       "      <th>4</th>\n",
       "      <td>â Trip Verified |  Cancelled our flight last...</td>\n",
       "      <td>True</td>\n",
       "      <td>881</td>\n",
       "      <td>trip verified cancelled our flight last minute...</td>\n",
       "      <td>[trip, verified, cancelled, our, flight, last,...</td>\n",
       "      <td>[trip, verified, cancelled, flight, last, minu...</td>\n",
       "      <td>[trip, verify, cancel, flight, last, minute, m...</td>\n",
       "      <td>1</td>\n",
       "    </tr>\n",
       "  </tbody>\n",
       "</table>\n",
       "</div>"
      ],
      "text/plain": [
       "                                             reviews  verified  review_len  \\\n",
       "0  â\n",
       " Trip Verified |  I take comfort in reading...      True         727   \n",
       "1  â\n",
       " Trip Verified |  The worst journey in my l...      True        1077   \n",
       "2  â\n",
       " Trip Verified | The airplanes and the loun...      True         342   \n",
       "3  â\n",
       " Trip Verified | One of the worst experienc...      True        1203   \n",
       "4  â\n",
       " Trip Verified |  Cancelled our flight last...      True         881   \n",
       "\n",
       "                                      cleaned_review  \\\n",
       "0  trip verified i take comfort in reading the la...   \n",
       "1  trip verified the worst journey in my life the...   \n",
       "2  trip verified the airplanes and the lounges ar...   \n",
       "3  trip verified one of the worst experiences on ...   \n",
       "4  trip verified cancelled our flight last minute...   \n",
       "\n",
       "                                    tokenized_review  \\\n",
       "0  [trip, verified, i, take, comfort, in, reading...   \n",
       "1  [trip, verified, the, worst, journey, in, my, ...   \n",
       "2  [trip, verified, the, airplanes, and, the, lou...   \n",
       "3  [trip, verified, one, of, the, worst, experien...   \n",
       "4  [trip, verified, cancelled, our, flight, last,...   \n",
       "\n",
       "                                    no_stopword_text  \\\n",
       "0  [trip, verified, take, comfort, reading, last,...   \n",
       "1  [trip, verified, worst, journey, life, connect...   \n",
       "2  [trip, verified, airplanes, lounges, worn, old...   \n",
       "3  [trip, verified, one, worst, experiences, wors...   \n",
       "4  [trip, verified, cancelled, flight, last, minu...   \n",
       "\n",
       "                                      lemmatize_word  labels  \n",
       "0  [trip, verify, take, comfort, read, last, ten,...       1  \n",
       "1  [trip, verify, worst, journey, life, connectio...       1  \n",
       "2  [trip, verify, airplanes, lounge, wear, old, b...       0  \n",
       "3  [trip, verify, one, worst, experience, worst, ...       1  \n",
       "4  [trip, verify, cancel, flight, last, minute, m...       1  "
      ]
     },
     "execution_count": 105,
     "metadata": {},
     "output_type": "execute_result"
    }
   ],
   "source": [
    "data.head()"
   ]
  },
  {
   "cell_type": "markdown",
   "metadata": {},
   "source": [
    "Label change as otomaticly be 0 and 1\n",
    "0 = negative  <br>\n",
    "1 = positive"
   ]
  },
  {
   "cell_type": "markdown",
   "metadata": {},
   "source": [
    "# Download Data"
   ]
  },
  {
   "cell_type": "code",
   "execution_count": 109,
   "metadata": {},
   "outputs": [
    {
     "name": "stdout",
     "output_type": "stream",
     "text": [
      "                                               reviews  verified  labels\n",
      "0    â Trip Verified |  I take comfort in reading...      True       1\n",
      "1    â Trip Verified |  The worst journey in my l...      True       1\n",
      "2    â Trip Verified | The airplanes and the loun...      True       0\n",
      "3    â Trip Verified | One of the worst experienc...      True       1\n",
      "4    â Trip Verified |  Cancelled our flight last...      True       1\n",
      "..                                                 ...       ...     ...\n",
      "995  â Trip Verified | \\r\\nI would like to compli...      True       0\n",
      "996  â Trip Verified | Arrived at the airport to ...      True       1\n",
      "997  â Trip Verified |  We have been loyal custom...      True       1\n",
      "998  â Trip Verified |  Gatwick to Las Vegas. Boa...      True       0\n",
      "999  Not Verified |  Nassau to London. Premium Econ...     False       0\n",
      "\n",
      "[1000 rows x 3 columns]\n"
     ]
    }
   ],
   "source": [
    "Cleaned_review = ['reviews', 'verified', 'labels']\n",
    "print(data[Cleaned_review])"
   ]
  },
  {
   "cell_type": "code",
   "execution_count": 110,
   "metadata": {},
   "outputs": [],
   "source": [
    "data[Cleaned_review].to_csv(\"data/Cleaned_reviews.csv\")"
   ]
  },
  {
   "cell_type": "code",
   "execution_count": 114,
   "metadata": {},
   "outputs": [
    {
     "data": {
      "text/plain": [
       "array([[ 1.36054378e-03,  1.63815951e-04, -3.79470760e-19, ...,\n",
       "         9.48676901e-20,  1.71517113e-03,  9.48676901e-20],\n",
       "       [ 6.20585213e-04,  1.37284323e-03,  3.03137753e-04, ...,\n",
       "         1.58222301e-04,  1.01720122e-03,  1.58222301e-04]])"
      ]
     },
     "execution_count": 114,
     "metadata": {},
     "output_type": "execute_result"
    }
   ],
   "source": [
    "center = kmeans.cluster_centers_\n",
    "center"
   ]
  }
 ],
 "metadata": {
  "kernelspec": {
   "display_name": "Python 3.9.13 ('venv': venv)",
   "language": "python",
   "name": "python3"
  },
  "language_info": {
   "codemirror_mode": {
    "name": "ipython",
    "version": 3
   },
   "file_extension": ".py",
   "mimetype": "text/x-python",
   "name": "python",
   "nbconvert_exporter": "python",
   "pygments_lexer": "ipython3",
   "version": "3.10.11"
  },
  "orig_nbformat": 4,
  "vscode": {
   "interpreter": {
    "hash": "4f7924c4c56b083e0e50eadfe7ef592a7a8ef70df33a0047f82280e6be1afe15"
   }
  }
 },
 "nbformat": 4,
 "nbformat_minor": 2
}
